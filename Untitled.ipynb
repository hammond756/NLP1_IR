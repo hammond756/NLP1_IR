{
 "cells": [
  {
   "cell_type": "code",
   "execution_count": 16,
   "metadata": {},
   "outputs": [
    {
     "data": {
      "text/plain": [
       "\n",
       " 3.3000  3.3000  3.3000\n",
       "[torch.FloatTensor of size 1x3]"
      ]
     },
     "execution_count": 16,
     "metadata": {},
     "output_type": "execute_result"
    }
   ],
   "source": [
    "import torch\n",
    "import torch.nn.functional as F\n",
    "import numpy as np\n",
    "from torch.autograd import Variable\n",
    "weights = torch.FloatTensor(np.array([[0.2, 0.3, 0.5]]))\n",
    "memory = torch.FloatTensor(np.array([[2., 2., 2.], [3., 3., 3.], [4., 4., 4.]]))\n",
    "torch.mm(weights, memory)"
   ]
  },
  {
   "cell_type": "code",
   "execution_count": 14,
   "metadata": {},
   "outputs": [
    {
     "data": {
      "text/plain": [
       "['is',\n",
       " 'it',\n",
       " 'day',\n",
       " 'or',\n",
       " 'night',\n",
       " '?',\n",
       " 'is',\n",
       " '',\n",
       " 'inside,',\n",
       " 'i',\n",
       " \"can't\",\n",
       " 'tell']"
      ]
     },
     "execution_count": 14,
     "metadata": {},
     "output_type": "execute_result"
    }
   ],
   "source": [
    "string = \"is it day or night ? is  inside, i can't tell\"\n",
    "string.split(' ')"
   ]
  },
  {
   "cell_type": "code",
   "execution_count": 35,
   "metadata": {},
   "outputs": [
    {
     "name": "stdout",
     "output_type": "stream",
     "text": [
      "Variable containing:\n",
      "\n",
      "Columns 0 to 9 \n",
      " 1.8982  2.2817  1.9347  1.9804  1.3063  1.5337  1.6022  1.9926  1.7387  1.6225\n",
      "\n",
      "Columns 10 to 15 \n",
      " 2.0230  1.9473  1.7530  1.4459  1.6109  2.0095\n",
      "[torch.FloatTensor of size 1x16]\n",
      "\n"
     ]
    },
    {
     "data": {
      "text/plain": [
       "Variable containing:\n",
       "\n",
       "Columns 0 to 9 \n",
       " 0.2197  0.4370  0.3723  0.4709  0.0001  0.0835  0.1887  0.5014  0.0844  0.1455\n",
       " 0.2090  0.4100  0.2785  0.4273  0.3209  0.2043  0.4277  0.2632  0.1176  0.2733\n",
       " 0.2198  0.2004  0.2888  0.2175  0.1075  0.6123  0.1236  0.3906  0.4605  0.4413\n",
       " 0.4617  0.3791  0.4624  0.4187  0.0651  0.5409  0.0244  0.1370  0.0977  0.0365\n",
       " 0.5046  0.1805  0.2756  0.0998  0.5296  0.1888  0.1969  0.0713  0.3948  0.4828\n",
       " 0.5209  0.2895  0.3867  0.1507  0.2147  0.2909  0.4926  0.1115  0.0594  0.0452\n",
       " 0.1516  0.0524  0.0672  0.2650  0.0148  0.0545  0.4237  0.4601  0.1217  0.5612\n",
       " 0.3025  0.2691  0.0758  0.4830  0.4511  0.1702  0.4367  0.1159  0.0589  0.3288\n",
       " 0.0263  0.3355  0.2770  0.0229  0.5081  0.0913  0.3214  0.3977  0.5433  0.0184\n",
       " 0.0734  0.3910  0.4173  0.1907  0.3044  0.3511  0.1032  0.3274  0.5334  0.2227\n",
       "\n",
       "Columns 10 to 15 \n",
       " 0.0456  0.2037  0.1063  0.2683  0.2145  0.3333\n",
       " 0.4341  0.1179  0.0156  0.3696  0.4162  0.4548\n",
       " 0.4786  0.4122  0.1788  0.0642  0.4298  0.2579\n",
       " 0.4341  0.3443  0.0561  0.4102  0.2614  0.3342\n",
       " 0.4126  0.2118  0.0104  0.0236  0.4657  0.3105\n",
       " 0.2214  0.2410  0.5183  0.0665  0.1823  0.4495\n",
       " 0.1313  0.1535  0.2804  0.4042  0.0331  0.2816\n",
       " 0.2047  0.4878  0.3961  0.3410  0.2571  0.2690\n",
       " 0.2899  0.4535  0.5154  0.3740  0.0853  0.2229\n",
       " 0.1719  0.2932  0.4283  0.4411  0.4507  0.0629\n",
       "[torch.FloatTensor of size 10x16]"
      ]
     },
     "execution_count": 35,
     "metadata": {},
     "output_type": "execute_result"
    }
   ],
   "source": [
    "torch.manual_seed(1)\n",
    "# suppose x is a Variable of size [4, 16], 4 is batch_size, 16 is feature dimension\n",
    "x = Variable(torch.rand(10, 16), requires_grad=True)\n",
    "norm = x.norm(p=2, dim=0, keepdim=True)\n",
    "print(norm)\n",
    "x_normalized = x.div(norm.expand_as(x))\n",
    "x_normalized"
   ]
  },
  {
   "cell_type": "code",
   "execution_count": 60,
   "metadata": {},
   "outputs": [
    {
     "data": {
      "text/plain": [
       "\n",
       "-0.3642\n",
       " 0.5937\n",
       "-0.0798\n",
       "[torch.FloatTensor of size 3]"
      ]
     },
     "execution_count": 60,
     "metadata": {},
     "output_type": "execute_result"
    }
   ],
   "source": [
    "torch.randn(3) + torch.randn(3)"
   ]
  },
  {
   "cell_type": "code",
   "execution_count": null,
   "metadata": {},
   "outputs": [],
   "source": []
  }
 ],
 "metadata": {
  "kernelspec": {
   "display_name": "Python 3",
   "language": "python",
   "name": "python3"
  },
  "language_info": {
   "codemirror_mode": {
    "name": "ipython",
    "version": 3
   },
   "file_extension": ".py",
   "mimetype": "text/x-python",
   "name": "python",
   "nbconvert_exporter": "python",
   "pygments_lexer": "ipython3",
   "version": "3.5.2rc1"
  }
 },
 "nbformat": 4,
 "nbformat_minor": 2
}
